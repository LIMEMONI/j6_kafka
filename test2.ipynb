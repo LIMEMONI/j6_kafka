{
 "cells": [
  {
   "cell_type": "code",
   "execution_count": 6,
   "metadata": {},
   "outputs": [
    {
     "name": "stdout",
     "output_type": "stream",
     "text": [
      "0\n"
     ]
    }
   ],
   "source": []
  },
  {
   "cell_type": "code",
   "execution_count": 5,
   "metadata": {},
   "outputs": [
    {
     "data": {
      "text/plain": [
       "dict_keys([])"
      ]
     },
     "execution_count": 5,
     "metadata": {},
     "output_type": "execute_result"
    }
   ],
   "source": [
    "dict().keys()"
   ]
  },
  {
   "cell_type": "code",
   "execution_count": 2,
   "metadata": {},
   "outputs": [
    {
     "name": "stdout",
     "output_type": "stream",
     "text": [
      "Array Output:\n",
      " [[1 2]\n",
      " [3 4]\n",
      " [5 6]]\n",
      "Current Time: 2023-03-23 10:20:30\n"
     ]
    }
   ],
   "source": [
    "import numpy as np\n",
    "from datetime import datetime\n",
    "\n",
    "def dict_to_array(data):\n",
    "    \"\"\"사전 형태의 데이터를 2차원 넘파이 배열로 변환하는 함수.\n",
    "       'current_time' 키는 제외하고 배열을 생성. 'current_time'은 별도로 반환.\"\"\"\n",
    "    if not data:\n",
    "        return np.array([]), None  # 빈 데이터 처리\n",
    "\n",
    "    # 'current_time' 키를 제외한 모든 키의 합집합을 구함\n",
    "    all_keys = set().union(*(d.keys() for d in data)) - {'current_time'}\n",
    "\n",
    "    # 누락된 키에 대해 None을 기본값으로 사용하여 데이터를 정규화\n",
    "    normalized_data = [{key: item.get(key, None) for key in all_keys} for item in data]\n",
    "\n",
    "    # 첫 번째 데이터에서 'current_time' 키의 값을 추출\n",
    "    current_time = data[0]['current_time'] if 'current_time' in data[0] else None\n",
    "    if current_time is not None:\n",
    "        current_time = datetime.fromisoformat(current_time)\n",
    "\n",
    "    # 'current_time'을 제외한 데이터를 넘파이 배열로 변환\n",
    "    return np.array([list(item.values()) for item in normalized_data]), current_time\n",
    "\n",
    "# 예시 데이터\n",
    "example_data = [\n",
    "    {'current_time': '2023-03-23T10:20:30', 'value1': 1, 'value2': 2},\n",
    "    {'current_time': '2023-03-23T11:30:40', 'value1': 3, 'value2': 4},\n",
    "    {'current_time': '2023-03-23T12:40:50', 'value1': 5, 'value2': 6}\n",
    "]\n",
    "\n",
    "# 함수 실행\n",
    "array_output, current_time_output = dict_to_array(example_data)\n",
    "print(\"Array Output:\\n\", array_output)\n",
    "print(\"Current Time:\", current_time_output)\n"
   ]
  },
  {
   "cell_type": "code",
   "execution_count": null,
   "metadata": {},
   "outputs": [],
   "source": []
  }
 ],
 "metadata": {
  "kernelspec": {
   "display_name": "edu_env_kernel",
   "language": "python",
   "name": "edu_env"
  },
  "language_info": {
   "codemirror_mode": {
    "name": "ipython",
    "version": 3
   },
   "file_extension": ".py",
   "mimetype": "text/x-python",
   "name": "python",
   "nbconvert_exporter": "python",
   "pygments_lexer": "ipython3",
   "version": "3.10.9"
  }
 },
 "nbformat": 4,
 "nbformat_minor": 2
}
